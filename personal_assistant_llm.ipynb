{
  "nbformat": 4,
  "nbformat_minor": 0,
  "metadata": {
    "colab": {
      "provenance": [],
      "authorship_tag": "ABX9TyPJd8ap9huYkOPgIspEC18T",
      "include_colab_link": true
    },
    "kernelspec": {
      "name": "python3",
      "display_name": "Python 3"
    },
    "language_info": {
      "name": "python"
    }
  },
  "cells": [
    {
      "cell_type": "markdown",
      "metadata": {
        "id": "view-in-github",
        "colab_type": "text"
      },
      "source": [
        "<a href=\"https://colab.research.google.com/github/SlayerDraco/personal-assistant-LLM/blob/main/personal_assistant_llm.ipynb\" target=\"_parent\"><img src=\"https://colab.research.google.com/assets/colab-badge.svg\" alt=\"Open In Colab\"/></a>"
      ]
    },
    {
      "cell_type": "markdown",
      "source": [
        "# New Section"
      ],
      "metadata": {
        "id": "NSD02SDmGely"
      }
    },
    {
      "cell_type": "code",
      "source": [
        "!pip install -q transformers datasets tokenizers accelerate deepspeed\n",
        "\n",
        "from pathlib import Path\n",
        "\n",
        "# Create your structure\n",
        "folders = [\n",
        "    \"config\", \"tokenizer\", \"data/raw\", \"data/processed\",\n",
        "    \"training\", \"model\", \"inference\"\n",
        "]\n",
        "for folder in folders:\n",
        "    Path(folder).mkdir(parents=True, exist_ok=True)\n",
        "\n",
        "print(\"✔️ Environment setup complete.\")\n"
      ],
      "metadata": {
        "id": "fXZKhdMvDG2z"
      },
      "execution_count": null,
      "outputs": []
    },
    {
      "cell_type": "markdown",
      "source": [
        "Training the tokeniser\n"
      ],
      "metadata": {
        "id": "3MEXhYrbjmHt"
      }
    },
    {
      "cell_type": "code",
      "source": [
        "Path(\"data/raw\").mkdir(parents=True, exist_ok=True)\n",
        "\n",
        "sample_text = \"\"\"\n",
        "User: Set a reminder every hour to drink water.\n",
        "AI: Got it. Hourly hydration threats activated.\n",
        "\n",
        "User: Take a note that I need to submit the assignment tomorrow.\n",
        "AI: Noted. Should I also remind you five times before the deadline or let you panic naturally?\n",
        "\n",
        "User: Schedule a call with Mom at 8 PM.\n",
        "AI: Scheduled. Tell her I said hi and that you're still alive.\n",
        "\n",
        "User: What's on my agenda today?\n",
        "AI: Cry a little, do some work, pretend you're fine. Oh, and a meeting at 3 PM.\n",
        "\n",
        "User: Draft a message for my professor about the late submission.\n",
        "AI: \"Dear Sir, I deeply regret being a walking deadline disaster...\" — want me to send that?\n",
        "\n",
        "User: Tell me a joke.\n",
        "AI: You. Trying to wake up before 10 AM.\n",
        "\n",
        "User: Delete my last note.\n",
        "AI: Gone. Like your motivation.\n",
        "\n",
        "User: How's the weather?\n",
        "AI: Perfect for staying in and questioning your life choices.\n",
        "\n",
        "User: Play some music.\n",
        "AI: Playing your favorite: Lo-fi beats to cry and code to.\n",
        "\n",
        "User: Set an alarm for 7 AM.\n",
        "AI: Set. But we both know you're hitting snooze.\n",
        "\"\"\"\n",
        "\n",
        "with open(\"data/raw/sample_conversations.txt\", \"w\") as f:\n",
        "    f.write(sample_text.strip())\n",
        "\n",
        "print(\"✅ Sample dataset created.\")\n"
      ],
      "metadata": {
        "colab": {
          "base_uri": "https://localhost:8080/"
        },
        "id": "KBihXC70w_x3",
        "outputId": "ae34419f-d07e-4fbb-cdf3-6b6fea158de0"
      },
      "execution_count": 2,
      "outputs": [
        {
          "output_type": "stream",
          "name": "stdout",
          "text": [
            "✅ Sample dataset created.\n"
          ]
        }
      ]
    },
    {
      "cell_type": "code",
      "source": [
        "from tokenizers import ByteLevelBPETokenizer\n",
        "from pathlib import Path\n",
        "\n",
        "# Paths\n",
        "DATA_PATH = \"data/raw/\"\n",
        "TOKENIZER_SAVE_PATH = \"tokenizer/\"\n",
        "VOCAB_SIZE = 50257  # GPT-style (same as GPT-2)\n",
        "\n",
        "# Ensure the directory exists - creating if necessary\n",
        "Path(TOKENIZER_SAVE_PATH).mkdir(parents=True, exist_ok=True)\n",
        "\n",
        "# Load all .txt files in the raw data folder\n",
        "def get_training_files(data_path):\n",
        "    return [str(x) for x in Path(data_path).glob(\"**/*.txt\")]\n",
        "\n",
        "training_files = get_training_files(DATA_PATH)\n",
        "\n",
        "# Initialize tokenizer\n",
        "tokenizer = ByteLevelBPETokenizer()\n",
        "\n",
        "# Train it\n",
        "tokenizer.train(\n",
        "    files=training_files,\n",
        "    vocab_size=VOCAB_SIZE,\n",
        "    min_frequency=2,\n",
        "    special_tokens=[\n",
        "        \"<s>\", \"<pad>\", \"</s>\", \"<unk>\", \"<mask>\"\n",
        "    ]\n",
        ")\n",
        "\n",
        "# Save tokenizer\n",
        "tokenizer.save_model(TOKENIZER_SAVE_PATH)\n",
        "\n",
        "print(f\"✅ Tokenizer trained and saved to `{TOKENIZER_SAVE_PATH}`\")"
      ],
      "metadata": {
        "colab": {
          "base_uri": "https://localhost:8080/"
        },
        "id": "utJ0CvuMC7Hn",
        "outputId": "691ab71f-a9e2-4ef0-ede3-4fe42b6942f6"
      },
      "execution_count": 5,
      "outputs": [
        {
          "output_type": "stream",
          "name": "stdout",
          "text": [
            "✅ Tokenizer trained and saved to `tokenizer/`\n"
          ]
        }
      ]
    },
    {
      "cell_type": "code",
      "source": [],
      "metadata": {
        "id": "xJntzys-z2cO"
      },
      "execution_count": null,
      "outputs": []
    }
  ]
}