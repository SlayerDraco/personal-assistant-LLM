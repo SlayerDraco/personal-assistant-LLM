{
  "nbformat": 4,
  "nbformat_minor": 0,
  "metadata": {
    "colab": {
      "provenance": [],
      "gpuType": "T4",
      "authorship_tag": "ABX9TyMAbZnJWGdv+8bZY1Jy4c4c",
      "include_colab_link": true
    },
    "kernelspec": {
      "name": "python3",
      "display_name": "Python 3"
    },
    "language_info": {
      "name": "python"
    }
  },
  "cells": [
    {
      "cell_type": "markdown",
      "metadata": {
        "id": "view-in-github",
        "colab_type": "text"
      },
      "source": [
        "<a href=\"https://colab.research.google.com/github/SlayerDraco/personal-assistant-LLM/blob/main/personal_assistant_llm.ipynb\" target=\"_parent\"><img src=\"https://colab.research.google.com/assets/colab-badge.svg\" alt=\"Open In Colab\"/></a>"
      ]
    },
    {
      "cell_type": "markdown",
      "source": [
        "# New Section"
      ],
      "metadata": {
        "id": "NSD02SDmGely"
      }
    },
    {
      "cell_type": "code",
      "source": [
        "!pip install -q transformers datasets tokenizers accelerate deepspeed\n",
        "\n",
        "from pathlib import Path\n",
        "\n",
        "# Create your structure\n",
        "folders = [\n",
        "    \"config\", \"tokenizer\", \"data/raw\", \"data/processed\",\n",
        "    \"training\", \"model\", \"inference\"\n",
        "]\n",
        "for folder in folders:\n",
        "    Path(folder).mkdir(parents=True, exist_ok=True)\n",
        "\n",
        "print(\"✔️ Environment setup complete.\")\n"
      ],
      "metadata": {
        "colab": {
          "base_uri": "https://localhost:8080/"
        },
        "id": "fXZKhdMvDG2z",
        "outputId": "0f03692e-b8f5-4752-95cd-f26ca01a5df5"
      },
      "execution_count": 1,
      "outputs": [
        {
          "output_type": "stream",
          "name": "stdout",
          "text": [
            "\u001b[?25l     \u001b[90m━━━━━━━━━━━━━━━━━━━━━━━━━━━━━━━━━━━━━━━━\u001b[0m \u001b[32m0.0/1.5 MB\u001b[0m \u001b[31m?\u001b[0m eta \u001b[36m-:--:--\u001b[0m\r\u001b[2K     \u001b[91m━━━━━━━━━━━━━━━━━━━━━━━━━━━━━━━\u001b[0m\u001b[90m╺\u001b[0m\u001b[90m━━━━━━━━\u001b[0m \u001b[32m1.2/1.5 MB\u001b[0m \u001b[31m31.4 MB/s\u001b[0m eta \u001b[36m0:00:01\u001b[0m\r\u001b[2K     \u001b[90m━━━━━━━━━━━━━━━━━━━━━━━━━━━━━━━━━━━━━━━━\u001b[0m \u001b[32m1.5/1.5 MB\u001b[0m \u001b[31m25.5 MB/s\u001b[0m eta \u001b[36m0:00:00\u001b[0m\n",
            "\u001b[?25h  Preparing metadata (setup.py) ... \u001b[?25l\u001b[?25hdone\n",
            "\u001b[2K   \u001b[90m━━━━━━━━━━━━━━━━━━━━━━━━━━━━━━━━━━━━━━━━\u001b[0m \u001b[32m491.2/491.2 kB\u001b[0m \u001b[31m41.0 MB/s\u001b[0m eta \u001b[36m0:00:00\u001b[0m\n",
            "\u001b[2K   \u001b[90m━━━━━━━━━━━━━━━━━━━━━━━━━━━━━━━━━━━━━━━━\u001b[0m \u001b[32m116.3/116.3 kB\u001b[0m \u001b[31m11.1 MB/s\u001b[0m eta \u001b[36m0:00:00\u001b[0m\n",
            "\u001b[2K   \u001b[90m━━━━━━━━━━━━━━━━━━━━━━━━━━━━━━━━━━━━━━━━\u001b[0m \u001b[32m183.9/183.9 kB\u001b[0m \u001b[31m17.3 MB/s\u001b[0m eta \u001b[36m0:00:00\u001b[0m\n",
            "\u001b[2K   \u001b[90m━━━━━━━━━━━━━━━━━━━━━━━━━━━━━━━━━━━━━━━━\u001b[0m \u001b[32m143.5/143.5 kB\u001b[0m \u001b[31m13.7 MB/s\u001b[0m eta \u001b[36m0:00:00\u001b[0m\n",
            "\u001b[2K   \u001b[90m━━━━━━━━━━━━━━━━━━━━━━━━━━━━━━━━━━━━━━━━\u001b[0m \u001b[32m363.4/363.4 MB\u001b[0m \u001b[31m4.7 MB/s\u001b[0m eta \u001b[36m0:00:00\u001b[0m\n",
            "\u001b[2K   \u001b[90m━━━━━━━━━━━━━━━━━━━━━━━━━━━━━━━━━━━━━━━━\u001b[0m \u001b[32m13.8/13.8 MB\u001b[0m \u001b[31m72.7 MB/s\u001b[0m eta \u001b[36m0:00:00\u001b[0m\n",
            "\u001b[2K   \u001b[90m━━━━━━━━━━━━━━━━━━━━━━━━━━━━━━━━━━━━━━━━\u001b[0m \u001b[32m24.6/24.6 MB\u001b[0m \u001b[31m37.4 MB/s\u001b[0m eta \u001b[36m0:00:00\u001b[0m\n",
            "\u001b[2K   \u001b[90m━━━━━━━━━━━━━━━━━━━━━━━━━━━━━━━━━━━━━━━━\u001b[0m \u001b[32m883.7/883.7 kB\u001b[0m \u001b[31m44.8 MB/s\u001b[0m eta \u001b[36m0:00:00\u001b[0m\n",
            "\u001b[2K   \u001b[90m━━━━━━━━━━━━━━━━━━━━━━━━━━━━━━━━━━━━━━━━\u001b[0m \u001b[32m664.8/664.8 MB\u001b[0m \u001b[31m2.7 MB/s\u001b[0m eta \u001b[36m0:00:00\u001b[0m\n",
            "\u001b[2K   \u001b[90m━━━━━━━━━━━━━━━━━━━━━━━━━━━━━━━━━━━━━━━━\u001b[0m \u001b[32m211.5/211.5 MB\u001b[0m \u001b[31m5.2 MB/s\u001b[0m eta \u001b[36m0:00:00\u001b[0m\n",
            "\u001b[2K   \u001b[90m━━━━━━━━━━━━━━━━━━━━━━━━━━━━━━━━━━━━━━━━\u001b[0m \u001b[32m56.3/56.3 MB\u001b[0m \u001b[31m13.8 MB/s\u001b[0m eta \u001b[36m0:00:00\u001b[0m\n",
            "\u001b[2K   \u001b[90m━━━━━━━━━━━━━━━━━━━━━━━━━━━━━━━━━━━━━━━━\u001b[0m \u001b[32m127.9/127.9 MB\u001b[0m \u001b[31m7.6 MB/s\u001b[0m eta \u001b[36m0:00:00\u001b[0m\n",
            "\u001b[2K   \u001b[90m━━━━━━━━━━━━━━━━━━━━━━━━━━━━━━━━━━━━━━━━\u001b[0m \u001b[32m207.5/207.5 MB\u001b[0m \u001b[31m5.4 MB/s\u001b[0m eta \u001b[36m0:00:00\u001b[0m\n",
            "\u001b[2K   \u001b[90m━━━━━━━━━━━━━━━━━━━━━━━━━━━━━━━━━━━━━━━━\u001b[0m \u001b[32m21.1/21.1 MB\u001b[0m \u001b[31m46.9 MB/s\u001b[0m eta \u001b[36m0:00:00\u001b[0m\n",
            "\u001b[2K   \u001b[90m━━━━━━━━━━━━━━━━━━━━━━━━━━━━━━━━━━━━━━━━\u001b[0m \u001b[32m54.0/54.0 kB\u001b[0m \u001b[31m4.9 MB/s\u001b[0m eta \u001b[36m0:00:00\u001b[0m\n",
            "\u001b[2K   \u001b[90m━━━━━━━━━━━━━━━━━━━━━━━━━━━━━━━━━━━━━━━━\u001b[0m \u001b[32m422.8/422.8 kB\u001b[0m \u001b[31m33.0 MB/s\u001b[0m eta \u001b[36m0:00:00\u001b[0m\n",
            "\u001b[2K   \u001b[90m━━━━━━━━━━━━━━━━━━━━━━━━━━━━━━━━━━━━━━━━\u001b[0m \u001b[32m194.8/194.8 kB\u001b[0m \u001b[31m17.3 MB/s\u001b[0m eta \u001b[36m0:00:00\u001b[0m\n",
            "\u001b[?25h  Building wheel for deepspeed (setup.py) ... \u001b[?25l\u001b[?25hdone\n",
            "\u001b[31mERROR: pip's dependency resolver does not currently take into account all the packages that are installed. This behaviour is the source of the following dependency conflicts.\n",
            "gcsfs 2025.3.2 requires fsspec==2025.3.2, but you have fsspec 2024.12.0 which is incompatible.\u001b[0m\u001b[31m\n",
            "\u001b[0m✔️ Environment setup complete.\n"
          ]
        }
      ]
    },
    {
      "cell_type": "markdown",
      "source": [
        "Training the tokeniser\n"
      ],
      "metadata": {
        "id": "3MEXhYrbjmHt"
      }
    },
    {
      "cell_type": "code",
      "source": [
        "Path(\"data/raw\").mkdir(parents=True, exist_ok=True)\n",
        "\n",
        "sample_text = \"\"\"\n",
        "User: Set a reminder every hour to drink water.\n",
        "AI: Got it. Hourly hydration threats activated.\n",
        "\n",
        "User: Take a note that I need to submit the assignment tomorrow.\n",
        "AI: Noted. Should I also remind you five times before the deadline or let you panic naturally?\n",
        "\n",
        "User: Schedule a call with Mom at 8 PM.\n",
        "AI: Scheduled. Tell her I said hi and that you're still alive.\n",
        "\n",
        "User: What's on my agenda today?\n",
        "AI: Cry a little, do some work, pretend you're fine. Oh, and a meeting at 3 PM.\n",
        "\n",
        "User: Draft a message for my professor about the late submission.\n",
        "AI: \"Dear Sir, I deeply regret being a walking deadline disaster...\" — want me to send that?\n",
        "\n",
        "User: Tell me a joke.\n",
        "AI: You. Trying to wake up before 10 AM.\n",
        "\n",
        "User: Delete my last note.\n",
        "AI: Gone. Like your motivation.\n",
        "\n",
        "User: How's the weather?\n",
        "AI: Perfect for staying in and questioning your life choices.\n",
        "\n",
        "User: Play some music.\n",
        "AI: Playing your favorite: Lo-fi beats to cry and code to.\n",
        "\n",
        "User: Set an alarm for 7 AM.\n",
        "AI: Set. But we both know you're hitting snooze.\n",
        "\"\"\"\n",
        "\n",
        "with open(\"data/raw/sample_conversations.txt\", \"w\") as f:\n",
        "    f.write(sample_text.strip())\n",
        "\n",
        "print(\"✅ Sample dataset created.\")\n"
      ],
      "metadata": {
        "colab": {
          "base_uri": "https://localhost:8080/"
        },
        "id": "KBihXC70w_x3",
        "outputId": "a0577158-8f7b-465b-ee73-4d69b7520b05"
      },
      "execution_count": 2,
      "outputs": [
        {
          "output_type": "stream",
          "name": "stdout",
          "text": [
            "✅ Sample dataset created.\n"
          ]
        }
      ]
    },
    {
      "cell_type": "code",
      "source": [
        "from tokenizers import ByteLevelBPETokenizer\n",
        "from pathlib import Path\n",
        "\n",
        "# Paths\n",
        "DATA_PATH = \"data/raw/\"\n",
        "TOKENIZER_SAVE_PATH = \"tokenizer/\"\n",
        "VOCAB_SIZE = 50257  # GPT-style (same as GPT-2)\n",
        "\n",
        "# Ensure the directory exists - creating if necessary\n",
        "Path(TOKENIZER_SAVE_PATH).mkdir(parents=True, exist_ok=True)\n",
        "\n",
        "# Load all .txt files in the raw data folder\n",
        "def get_training_files(data_path):\n",
        "    return [str(x) for x in Path(data_path).glob(\"**/*.txt\")]\n",
        "\n",
        "training_files = get_training_files(DATA_PATH)\n",
        "\n",
        "# Initialize tokenizer\n",
        "tokenizer = ByteLevelBPETokenizer()\n",
        "\n",
        "# Train it\n",
        "tokenizer.train(\n",
        "    files=training_files,\n",
        "    vocab_size=VOCAB_SIZE,\n",
        "    min_frequency=2,\n",
        "    special_tokens=[\n",
        "        \"<s>\", \"<pad>\", \"</s>\", \"<unk>\", \"<mask>\"\n",
        "    ]\n",
        ")\n",
        "\n",
        "# Save tokenizer\n",
        "tokenizer.save_model(TOKENIZER_SAVE_PATH)\n",
        "\n",
        "print(f\"✅ Tokenizer trained and saved to `{TOKENIZER_SAVE_PATH}`\")"
      ],
      "metadata": {
        "colab": {
          "base_uri": "https://localhost:8080/"
        },
        "id": "utJ0CvuMC7Hn",
        "outputId": "2b671da8-8a1d-424c-9a29-4bf6ca335608"
      },
      "execution_count": 3,
      "outputs": [
        {
          "output_type": "stream",
          "name": "stdout",
          "text": [
            "✅ Tokenizer trained and saved to `tokenizer/`\n"
          ]
        }
      ]
    },
    {
      "cell_type": "code",
      "source": [
        "!pip install nltk wordfreq lemminflect\n",
        "\n",
        "import nltk\n",
        "nltk.download('wordnet')\n",
        "nltk.download('omw-1.4')\n",
        "nltk.download('punkt')\n",
        "\n",
        "from nltk.corpus import wordnet as wn\n",
        "import lemminflect\n",
        "from lemminflect import getAllInflections\n",
        "from wordfreq import top_n_list\n",
        "import random\n",
        "\n",
        "all_words = set()\n",
        "\n",
        "# 1. WordNet base words and inflections\n",
        "for synset in wn.all_synsets():\n",
        "    for lemma in synset.lemmas():\n",
        "        word = lemma.name().lower().replace('_', ' ')\n",
        "        all_words.add(word)\n",
        "\n",
        "        # Derivational forms\n",
        "        if lemma.derivationally_related_forms():\n",
        "            for related in lemma.derivationally_related_forms():\n",
        "                all_words.add(related.name().lower().replace('_', ' '))\n",
        "\n",
        "# 2. Lemminflect inflections\n",
        "print(\"Expanding via lemminflect...\")\n",
        "temp_words = list(all_words)\n",
        "for word in temp_words:\n",
        "    try:\n",
        "        inflections = getAllInflections(word)\n",
        "        for form_list in inflections.values():\n",
        "            for form in form_list:\n",
        "                all_words.add(form.lower())\n",
        "    except:\n",
        "        continue\n",
        "\n",
        "# 3. Add high-frequency words from wordfreq (English)\n",
        "print(\"Adding top words from wordfreq...\")\n",
        "top_words = top_n_list('en', 10000)\n",
        "all_words.update(top_words)\n",
        "\n",
        "print(f\"✅ Total unique words generated: {len(all_words)}\")\n",
        "\n",
        "# Optional: Save to a .txt file for tokenizer training\n",
        "with open(\"mega_english_words.txt\", \"w\") as f:\n",
        "    f.write(\"\\n\".join(sorted(all_words)))\n"
      ],
      "metadata": {
        "colab": {
          "base_uri": "https://localhost:8080/"
        },
        "id": "pK6k_ngMJdmv",
        "outputId": "e4bf33b0-de0a-408a-ded6-86e132a45738"
      },
      "execution_count": 4,
      "outputs": [
        {
          "output_type": "stream",
          "name": "stdout",
          "text": [
            "Requirement already satisfied: nltk in /usr/local/lib/python3.11/dist-packages (3.9.1)\n",
            "Collecting wordfreq\n",
            "  Downloading wordfreq-3.1.1-py3-none-any.whl.metadata (27 kB)\n",
            "Collecting lemminflect\n",
            "  Downloading lemminflect-0.2.3-py3-none-any.whl.metadata (7.0 kB)\n",
            "Requirement already satisfied: click in /usr/local/lib/python3.11/dist-packages (from nltk) (8.1.8)\n",
            "Requirement already satisfied: joblib in /usr/local/lib/python3.11/dist-packages (from nltk) (1.4.2)\n",
            "Requirement already satisfied: regex>=2021.8.3 in /usr/local/lib/python3.11/dist-packages (from nltk) (2024.11.6)\n",
            "Requirement already satisfied: tqdm in /usr/local/lib/python3.11/dist-packages (from nltk) (4.67.1)\n",
            "Collecting ftfy>=6.1 (from wordfreq)\n",
            "  Downloading ftfy-6.3.1-py3-none-any.whl.metadata (7.3 kB)\n",
            "Requirement already satisfied: langcodes>=3.0 in /usr/local/lib/python3.11/dist-packages (from wordfreq) (3.5.0)\n",
            "Collecting locate<2.0.0,>=1.1.1 (from wordfreq)\n",
            "  Downloading locate-1.1.1-py3-none-any.whl.metadata (3.9 kB)\n",
            "Requirement already satisfied: msgpack<2.0.0,>=1.0.7 in /usr/local/lib/python3.11/dist-packages (from wordfreq) (1.1.0)\n",
            "Requirement already satisfied: numpy in /usr/local/lib/python3.11/dist-packages (from lemminflect) (2.0.2)\n",
            "Requirement already satisfied: wcwidth in /usr/local/lib/python3.11/dist-packages (from ftfy>=6.1->wordfreq) (0.2.13)\n",
            "Requirement already satisfied: language-data>=1.2 in /usr/local/lib/python3.11/dist-packages (from langcodes>=3.0->wordfreq) (1.3.0)\n",
            "Requirement already satisfied: marisa-trie>=1.1.0 in /usr/local/lib/python3.11/dist-packages (from language-data>=1.2->langcodes>=3.0->wordfreq) (1.2.1)\n",
            "Requirement already satisfied: setuptools in /usr/local/lib/python3.11/dist-packages (from marisa-trie>=1.1.0->language-data>=1.2->langcodes>=3.0->wordfreq) (75.2.0)\n",
            "Downloading wordfreq-3.1.1-py3-none-any.whl (56.8 MB)\n",
            "\u001b[2K   \u001b[90m━━━━━━━━━━━━━━━━━━━━━━━━━━━━━━━━━━━━━━━━\u001b[0m \u001b[32m56.8/56.8 MB\u001b[0m \u001b[31m19.1 MB/s\u001b[0m eta \u001b[36m0:00:00\u001b[0m\n",
            "\u001b[?25hDownloading lemminflect-0.2.3-py3-none-any.whl (769 kB)\n",
            "\u001b[2K   \u001b[90m━━━━━━━━━━━━━━━━━━━━━━━━━━━━━━━━━━━━━━━━\u001b[0m \u001b[32m769.7/769.7 kB\u001b[0m \u001b[31m51.0 MB/s\u001b[0m eta \u001b[36m0:00:00\u001b[0m\n",
            "\u001b[?25hDownloading ftfy-6.3.1-py3-none-any.whl (44 kB)\n",
            "\u001b[2K   \u001b[90m━━━━━━━━━━━━━━━━━━━━━━━━━━━━━━━━━━━━━━━━\u001b[0m \u001b[32m44.8/44.8 kB\u001b[0m \u001b[31m4.6 MB/s\u001b[0m eta \u001b[36m0:00:00\u001b[0m\n",
            "\u001b[?25hDownloading locate-1.1.1-py3-none-any.whl (5.4 kB)\n",
            "Installing collected packages: locate, lemminflect, ftfy, wordfreq\n",
            "Successfully installed ftfy-6.3.1 lemminflect-0.2.3 locate-1.1.1 wordfreq-3.1.1\n"
          ]
        },
        {
          "output_type": "stream",
          "name": "stderr",
          "text": [
            "[nltk_data] Downloading package wordnet to /root/nltk_data...\n",
            "[nltk_data] Downloading package omw-1.4 to /root/nltk_data...\n",
            "[nltk_data] Downloading package punkt to /root/nltk_data...\n",
            "[nltk_data]   Unzipping tokenizers/punkt.zip.\n"
          ]
        },
        {
          "output_type": "stream",
          "name": "stdout",
          "text": [
            "Expanding via lemminflect...\n",
            "Adding top words from wordfreq...\n",
            "✅ Total unique words generated: 176210\n"
          ]
        }
      ]
    },
    {
      "cell_type": "code",
      "source": [
        "from pathlib import Path\n",
        "\n",
        "# ... other imports and code ...\n",
        "\n",
        "# Load your raw dataset (e.g., sample_conversations.txt)\n",
        "with open(\"data/raw/mew.txt\", \"r\") as file:\n",
        "    text_data = file.read()\n",
        "\n",
        "# Encode the entire dataset using the tokenizer\n",
        "encoded_data = tokenizer.encode(text_data)\n",
        "\n",
        "# Ensure the 'data/processed' directory exists before saving the file\n",
        "Path(\"data/processed\").mkdir(parents=True, exist_ok=True)  # This line creates the directory\n",
        "\n",
        "# You can split your data into smaller chunks if it's too large, or directly save it\n",
        "# Let's save the encoded data into a file for future use\n",
        "with open(\"data/processed/encoded_data.txt\", \"w\") as file:\n",
        "    file.write(\"\\n\".join(map(str, encoded_data.ids)))\n",
        "\n",
        "print(\"✅ Data encoded and saved.\")\n"
      ],
      "metadata": {
        "colab": {
          "base_uri": "https://localhost:8080/"
        },
        "id": "l8S_yLvtMOZW",
        "outputId": "25abb1e8-988a-42c3-d561-b0a3b8b61027"
      },
      "execution_count": 6,
      "outputs": [
        {
          "output_type": "stream",
          "name": "stdout",
          "text": [
            "✅ Data encoded and saved.\n"
          ]
        }
      ]
    }
  ]
}